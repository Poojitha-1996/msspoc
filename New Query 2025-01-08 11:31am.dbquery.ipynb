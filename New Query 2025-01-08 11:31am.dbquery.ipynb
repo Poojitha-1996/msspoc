{
 "cells": [
  {
   "cell_type": "code",
   "execution_count": 0,
   "metadata": {
    "application/vnd.databricks.v1+cell": {
     "cellMetadata": {},
     "inputWidgets": {},
     "nuid": "57e89d9d-7dcc-4586-afc0-0d7472673418",
     "showTitle": false,
     "tableResultSettingsMap": {},
     "title": ""
    }
   },
   "outputs": [],
   "source": [
    "CREATE TABLE msspoc.EDWSWR.fact_usg_R_CustID_M_TransactionDetails (\n",
    "            \n",
    "    cust_id INT COMMENT 'Customer ID',\n",
    "    agent_id INT COMMENT 'Agent ID',\n",
    "    bill_id INT COMMENT 'Bill ID',\n",
    "    customer_name STRING COMMENT 'Name of the customer',\n",
    "    agent_name STRING COMMENT 'Name of the agent',\n",
    "    bill_amount DECIMAL(10, 2) COMMENT 'Amount of the bill',\n",
    "    transaction_date TIMESTAMP COMMENT 'Date of the transaction',\n",
    "    created_at TIMESTAMP COMMENT 'Record creation timestamp',\n",
    "    updated_at TIMESTAMP COMMENT 'Record update timestamp'\n",
    "\n",
    "        ) USING DELTA \n",
    "        TBLPROPERTIES ('tag' = 'mssdemo');"
   ]
  }
 ],
 "metadata": {
  "application/vnd.databricks.v1+notebook": {
   "computePreferences": null,
   "dashboards": [],
   "environmentMetadata": null,
   "language": "sql",
   "notebookMetadata": {
    "sqlQueryOptions": {
     "applyAutoLimit": true,
     "catalog": "adb_we_poc_mss",
     "schema": "default"
    }
   },
   "notebookName": "New Query 2025-01-08 11:31am.dbquery.ipynb",
   "widgets": {}
  },
  "language_info": {
   "name": "sql"
  }
 },
 "nbformat": 4,
 "nbformat_minor": 0
}
