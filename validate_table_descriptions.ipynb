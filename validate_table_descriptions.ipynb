{
 "cells": [
  {
   "cell_type": "code",
   "execution_count": 0,
   "metadata": {
    "application/vnd.databricks.v1+cell": {
     "cellMetadata": {},
     "inputWidgets": {},
     "nuid": "a18acdd2-430b-4d5d-91c8-899ec2f6d472",
     "showTitle": false,
     "tableResultSettingsMap": {},
     "title": ""
    }
   },
   "outputs": [],
   "source": [
    "from pyspark.sql import SparkSession\n",
    "import re\n",
    "import sys\n",
    "import json\n",
    "\n",
    "# Initialize Spark session\n",
    "spark = SparkSession.builder.appName(\"Validate Table Descriptions\").getOrCreate()\n",
    "\n",
    "# Retrieve modified files from input\n",
    "dbutils.widgets.text(\"modified_files\", \"\")\n",
    "modified_files = json.loads(dbutils.widgets.get(\"modified_files\"))\n",
    "\n",
    "# Regular expression to match CREATE TABLE statements\n",
    "create_table_regex = re.compile(r\"CREATE TABLE\\s+\\w+\\s*\\((.*?)\\)\", re.IGNORECASE | re.DOTALL)\n",
    "column_regex = re.compile(r\"(\\w+)\\s+\\w+(\\s+COMMENT\\s+'[^']*')?\", re.IGNORECASE)\n",
    "\n",
    "missing_comments = []\n",
    "\n",
    "for file in modified_files:\n",
    "    with open(file, \"r\") as f:\n",
    "        content = f.read()\n",
    "        matches = create_table_regex.findall(content)\n",
    "        for match in matches:\n",
    "            columns = match.split(\",\")\n",
    "            for column in columns:\n",
    "                column_match = column_regex.match(column.strip())\n",
    "                if column_match and not column_match.group(2):\n",
    "                    missing_comments.append(column_match.group(1))\n",
    "\n",
    "if missing_comments:\n",
    "    print(\"ERROR: The following columns are missing comments:\", missing_comments)\n",
    "    sys.exit(1)  # Fails the Databricks job, which also fails GitHub Actions\n",
    "\n",
    "print(\"Validation successful: All columns have comments.\")\n"
   ]
  }
 ],
 "metadata": {
  "application/vnd.databricks.v1+notebook": {
   "computePreferences": null,
   "dashboards": [],
   "environmentMetadata": {
    "base_environment": "",
    "environment_version": "2"
   },
   "language": "python",
   "notebookMetadata": {
    "pythonIndentUnit": 4
   },
   "notebookName": "validate_table_descriptions",
   "widgets": {}
  },
  "language_info": {
   "name": "python"
  }
 },
 "nbformat": 4,
 "nbformat_minor": 0
}
