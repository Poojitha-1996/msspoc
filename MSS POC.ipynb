{
 "cells": [
  {
   "cell_type": "code",
   "execution_count": 0,
   "metadata": {
    "application/vnd.databricks.v1+cell": {
     "cellMetadata": {
      "byteLimit": 2048000,
      "rowLimit": 10000
     },
     "inputWidgets": {},
     "nuid": "5cf0cbd8-9bef-475d-aabe-6819447ce7d3",
     "showTitle": false,
     "tableResultSettingsMap": {},
     "title": ""
    }
   },
   "outputs": [],
   "source": [
    "# Import necessary libraries\n",
    "import os\n",
    "from pyspark.sql import SparkSession\n",
    "\n",
    "# Fetch the username dynamically from the Spark context\n",
    "username = dbutils.notebook.entry_point.getDbutils().notebook().getContext().userName().get()\n",
    "\n",
    "# Fetch available catalogs dynamically\n",
    "catalogs = [row[0] for row in spark.sql(\"SHOW CATALOGS\").collect()]\n",
    "\n",
    "# Create widgets for user input\n",
    "dbutils.widgets.dropdown(\"catalog\", catalogs[0], catalogs, \"Select Catalog\")\n",
    "dbutils.widgets.dropdown(\"script_type\", \"Result Table Block\", \n",
    "    [\"Result Table Block\", \"Result View Block\"], \"Select Script Type\")\n",
    "dbutils.widgets.dropdown(\"table_type\", \"fact\", [\"fact\", \"dim\", \"hist\"], \"Select Table Type\")\n",
    "dbutils.widgets.dropdown(\"domain\", \"usg\", [\"usg\", \"evt\", \"ntl\"], \"Select Domain\")\n",
    "dbutils.widgets.dropdown(\"data_level\", \"CustID\", [\"CustID\", \"AgentID\", \"BillID\"], \"Select Data Level\")\n",
    "dbutils.widgets.dropdown(\"aggregation\", \"Day\", [\"Day\", \"Week\", \"Month\", \"Quarter\", \"Year\"], \"Select Aggregation\")\n",
    "dbutils.widgets.multiselect(\"schema_selection\", \"Wholesale\", [\"Wholesale\", \"Retail\", \"1 to 1 View\"], \"Select Schema Type\")\n",
    "dbutils.widgets.text(\"table_name\", \"MyTableName\", \"Enter Table Name\")\n",
    "dbutils.widgets.dropdown(\"schema_name\", \"EDWS\", [\"EDWS\"], \"Select Base Schema\")\n",
    "\n",
    "# Retrieve user inputs\n",
    "catalog = dbutils.widgets.get(\"catalog\")\n",
    "script_type_full = dbutils.widgets.get(\"script_type\")\n",
    "table_type = dbutils.widgets.get(\"table_type\")\n",
    "domain = dbutils.widgets.get(\"domain\")\n",
    "data_level = dbutils.widgets.get(\"data_level\")\n",
    "aggregation_full = dbutils.widgets.get(\"aggregation\")\n",
    "schema_selection = dbutils.widgets.get(\"schema_selection\")\n",
    "table_name = dbutils.widgets.get(\"table_name\")\n",
    "base_schema = dbutils.widgets.get(\"schema_name\")\n",
    "\n",
    "# Derive abbreviations for script type and aggregation\n",
    "script_type_map = {\n",
    "    \"Result Table Block\": \"R\",\n",
    "    \"Result View Block\": \"V\"\n",
    "}\n",
    "aggregation_map = {\n",
    "    \"Day\": \"D\",\n",
    "    \"Week\": \"W\",\n",
    "    \"Month\": \"M\",\n",
    "    \"Quarter\": \"Q\",\n",
    "    \"Year\": \"Y\"\n",
    "}\n",
    "script_type = script_type_map[script_type_full]\n",
    "aggregation = aggregation_map[aggregation_full]\n",
    "\n",
    "# Generate schema names dynamically\n",
    "both_schema = f\"{base_schema}WR\"\n",
    "wholesale_view_schema = f\"{base_schema}WV\"\n",
    "retail_view_schema = f\"{base_schema}RV\"\n",
    "both_view_schema = f\"{both_schema}V\"\n",
    "\n",
    "# Construct table name\n",
    "full_table_name = f\"{table_type}_{domain}_{script_type}_{data_level}_{aggregation}_{table_name}\"\n",
    "\n",
    "# Explicit columns with data types for table creation\n",
    "columns = \"\"\"\n",
    "    cust_id INT COMMENT 'Customer ID',\n",
    "    agent_id INT COMMENT 'Agent ID',\n",
    "    bill_id INT COMMENT 'Bill ID',\n",
    "    customer_name STRING COMMENT 'Name of the customer',\n",
    "    agent_name STRING COMMENT 'Name of the agent',\n",
    "    bill_amount DECIMAL(10, 2) COMMENT 'Amount of the bill',\n",
    "    transaction_date TIMESTAMP COMMENT 'Date of the transaction',\n",
    "    created_at TIMESTAMP COMMENT 'Record creation timestamp',\n",
    "    updated_at TIMESTAMP COMMENT 'Record update timestamp'\n",
    "\"\"\"\n",
    "\n",
    "# Initialize SQL script variables\n",
    "table_script = None\n",
    "view_scripts = []\n",
    "\n",
    "# Logic for Result Table Block\n",
    "if script_type_full == \"Result Table Block\":\n",
    "    # Create table in base schema(s)\n",
    "    table_script = f\"\"\"\n",
    "        CREATE TABLE {catalog}.{both_schema}.{full_table_name} (\n",
    "            {columns}\n",
    "        ) USING DELTA \n",
    "        TBLPROPERTIES ('tag' = 'mssdemo');\n",
    "        \"\"\"\n",
    "        \n",
    "    if \"Wholesale\" in schema_selection:\n",
    "        view_scripts.append(f\"\"\"\n",
    "        CREATE VIEW {catalog}.{wholesale_view_schema}.{full_table_name} AS\n",
    "        SELECT * FROM {catalog}.{both_schema}.{full_table_name};\n",
    "        SET TBLPROPERTIES ('tag' = 'wholesale_view');\n",
    "        \"\"\")\n",
    "        # Add descriptions to the columns\n",
    "        view_scripts.append(f\"\"\"\n",
    "        COMMENT ON VIEW {catalog}.{wholesale_view_schema}.{full_table_name} IS 'This is a description of the view';\n",
    "        COMMENT ON COLUMN {catalog}.{wholesale_view_schema}.{full_table_name}.cust_id IS 'Customer ID';\n",
    "        COMMENT ON COLUMN {catalog}.{wholesale_view_schema}.{full_table_name}.agent_id IS 'Agent ID';\n",
    "        COMMENT ON COLUMN {catalog}.{wholesale_view_schema}.{full_table_name}.bill_id IS 'Bill ID';\n",
    "        COMMENT ON COLUMN {catalog}.{wholesale_view_schema}.{full_table_name}.customer_name IS 'Name of the customer';\n",
    "        COMMENT ON COLUMN {catalog}.{wholesale_view_schema}.{full_table_name}.agent_name IS 'Name of the agent';\n",
    "        COMMENT ON COLUMN {catalog}.{wholesale_view_schema}.{full_table_name}.bill_amount IS 'Amount of the bill';\n",
    "        COMMENT ON COLUMN {catalog}.{wholesale_view_schema}.{full_table_name}.transaction_date IS 'Date of the transaction';\n",
    "        COMMENT ON COLUMN {catalog}.{wholesale_view_schema}.{full_table_name}.created_at IS 'Record creation timestamp';\n",
    "        COMMENT ON COLUMN {catalog}.{wholesale_view_schema}.{full_table_name}.updated_at IS 'Record update timestamp';\n",
    "        \"\"\")\n",
    "\n",
    "    if \"Retail\" in schema_selection:\n",
    "        view_scripts.append(f\"\"\"\n",
    "        CREATE VIEW {catalog}.{retail_view_schema}.{full_table_name} AS\n",
    "        SELECT * FROM {catalog}.{both_schema}.{full_table_name};\n",
    "        SET TBLPROPERTIES ('tag' = 'Retail_view');\n",
    "        \"\"\")\n",
    "        view_scripts.append(f\"\"\"\n",
    "        COMMENT ON VIEW {catalog}.{retail_view_schema}.{full_table_name} IS 'This is a description of the view';\n",
    "        COMMENT ON COLUMN {catalog}.{retail_view_schema}.{full_table_name}.cust_id IS 'Customer ID';\n",
    "        COMMENT ON COLUMN {catalog}.{retail_view_schema}.{full_table_name}.agent_id IS 'Agent ID';\n",
    "        COMMENT ON COLUMN {catalog}.{retail_view_schema}.{full_table_name}.bill_id IS 'Bill ID';\n",
    "        COMMENT ON COLUMN {catalog}.{retail_view_schema}.{full_table_name}.customer_name IS 'Name of the customer';\n",
    "        COMMENT ON COLUMN {catalog}.{retail_view_schema}.{full_table_name}.agent_name IS 'Name of the agent';\n",
    "        COMMENT ON COLUMN {catalog}.{retail_view_schema}.{full_table_name}.bill_amount IS 'Amount of the bill';\n",
    "        COMMENT ON COLUMN {catalog}.{retail_view_schema}.{full_table_name}.transaction_date IS 'Date of the transaction';\n",
    "        COMMENT ON COLUMN {catalog}.{retail_view_schema}.{full_table_name}.created_at IS 'Record creation timestamp';\n",
    "        COMMENT ON COLUMN {catalog}.{retail_view_schema}.{full_table_name}.updated_at IS 'Record update timestamp';\n",
    "        \"\"\")\n",
    "\n",
    "    if \"1 to 1 View\" in schema_selection:\n",
    "        view_scripts.append(f\"\"\"\n",
    "        CREATE VIEW {catalog}.{both_view_schema}.{full_table_name} AS\n",
    "        SELECT * FROM {catalog}.{both_schema}.{full_table_name};\n",
    "        SET TBLPROPERTIES ('tag' = '1 to 1_view');\n",
    "        \"\"\")\n",
    "\n",
    "# Logic for Result View Block\n",
    "elif script_type_full == \"Result View Block\":\n",
    "    # Create views only\n",
    "    if \"Wholesale\" in schema_selection:\n",
    "        view_scripts.append(f\"\"\"\n",
    "        CREATE VIEW {catalog}.{wholesale_view_schema}.{full_table_name} AS\n",
    "        SELECT \n",
    "            cust_id, agent_id, bill_id, customer_name, agent_name, \n",
    "            bill_amount, transaction_date, created_at, updated_at\n",
    "        FROM {catalog}.{both_schema}.{full_table_name};\n",
    "        \"\"\")\n",
    "    if \"Retail\" in schema_selection:\n",
    "        view_scripts.append(f\"\"\"\n",
    "        CREATE VIEW {catalog}.{retail_view_schema}.{full_table_name} AS\n",
    "        SELECT \n",
    "            cust_id, agent_id, bill_id, customer_name, agent_name, \n",
    "            bill_amount, transaction_date, created_at, updated_at\n",
    "        FROM {catalog}.{both_schema}.{full_table_name};\n",
    "        \"\"\")\n",
    "    if \"1 to 1 View\" in schema_selection:\n",
    "        view_scripts.append(f\"\"\"\n",
    "        CREATE VIEW {catalog}.{both_view_schema}.{full_table_name} AS\n",
    "        SELECT \n",
    "            cust_id, agent_id, bill_id, customer_name, agent_name, \n",
    "            bill_amount, transaction_date, created_at, updated_at\n",
    "        FROM {catalog}.{both_schema}.{full_table_name}\n",
    "        UNION ALL\n",
    "        SELECT \n",
    "            cust_id, agent_id, bill_id, customer_name, agent_name, \n",
    "            bill_amount, transaction_date, created_at, updated_at\n",
    "        FROM {catalog}.{both_schema}.{full_table_name};\n",
    "        \"\"\")\n",
    "# Print the table script and view scripts\n",
    "if table_script:\n",
    "    print(\"Table Creation Script:\")\n",
    "    print(table_script)\n",
    "\n",
    "if view_scripts:\n",
    "    print(\"View Creation Scripts:\")\n",
    "    for script in view_scripts:\n",
    "        print(script)\n",
    "        \n",
    "template_path = f\"/dbfs/tmp/script_templates/Poojitha/scripts.txt\"\n",
    "\n",
    "# Initialize the content of the file with the table script and view scripts\n",
    "script_content = \"\"\n",
    "\n",
    "# If the table_script exists, add it to the file content\n",
    "if table_script:\n",
    "    script_content += f\"Table Creation Script:\\n{table_script}\\n\\n\"\n",
    "\n",
    "# If the view_scripts exist, add them to the file content\n",
    "if view_scripts:\n",
    "    script_content += \"View Creation Scripts:\\n\"\n",
    "    for script in view_scripts:\n",
    "        script_content += f\"{script}\\n\"\n",
    "\n",
    "if script_content:\n",
    "    dbutils.fs.put(template_path,script_content,overwrite=True)\n",
    "    print(f\"Scripts saved to: {template_path}\")\n",
    "else:\n",
    "    print(\"No scripts to save.\")"
   ]
  }
 ],
 "metadata": {
  "application/vnd.databricks.v1+notebook": {
   "computePreferences": null,
   "dashboards": [],
   "environmentMetadata": {
    "base_environment": "",
    "client": "1"
   },
   "language": "python",
   "notebookMetadata": {
    "mostRecentlyExecutedCommandWithImplicitDF": {
     "commandId": -1,
     "dataframes": [
      "_sqldf"
     ]
    },
    "pythonIndentUnit": 4
   },
   "notebookName": "MSS POC",
   "widgets": {
    "aggregation": {
     "currentValue": "Month",
     "nuid": "69e200ad-d389-4187-afc8-a97baa69f0a3",
     "typedWidgetInfo": {
      "autoCreated": false,
      "defaultValue": "Day",
      "label": "Select Aggregation",
      "name": "aggregation",
      "options": {
       "widgetDisplayType": "Dropdown",
       "choices": [
        "Day",
        "Week",
        "Month",
        "Quarter",
        "Year"
       ],
       "fixedDomain": true,
       "multiselect": false
      },
      "parameterDataType": "String"
     },
     "widgetInfo": {
      "widgetType": "dropdown",
      "defaultValue": "Day",
      "label": "Select Aggregation",
      "name": "aggregation",
      "options": {
       "widgetType": "dropdown",
       "autoCreated": null,
       "choices": [
        "Day",
        "Week",
        "Month",
        "Quarter",
        "Year"
       ]
      }
     }
    },
    "catalog": {
     "currentValue": "dwh",
     "nuid": "82995af9-e6ec-4e29-9478-a02614ce929f",
     "typedWidgetInfo": {
      "autoCreated": false,
      "defaultValue": "adb_we_poc_mss",
      "label": "Select Catalog",
      "name": "catalog",
      "options": {
       "widgetDisplayType": "Dropdown",
       "choices": [
        "adb_we_poc_mss",
        "hive_metastore",
        "msspoc",
        "samples",
        "system"
       ],
       "fixedDomain": true,
       "multiselect": false
      },
      "parameterDataType": "String"
     },
     "widgetInfo": {
      "widgetType": "dropdown",
      "defaultValue": "adb_we_poc_mss",
      "label": "Select Catalog",
      "name": "catalog",
      "options": {
       "widgetType": "dropdown",
       "autoCreated": null,
       "choices": [
        "adb_we_poc_mss",
        "hive_metastore",
        "msspoc",
        "samples",
        "system"
       ]
      }
     }
    },
    "data_level": {
     "currentValue": "CustID",
     "nuid": "55697ce5-c30b-4c57-8059-9ea3f6928912",
     "typedWidgetInfo": {
      "autoCreated": false,
      "defaultValue": "CustID",
      "label": "Select Data Level",
      "name": "data_level",
      "options": {
       "widgetDisplayType": "Dropdown",
       "choices": [
        "CustID",
        "AgentID",
        "BillID"
       ],
       "fixedDomain": true,
       "multiselect": false
      },
      "parameterDataType": "String"
     },
     "widgetInfo": {
      "widgetType": "dropdown",
      "defaultValue": "CustID",
      "label": "Select Data Level",
      "name": "data_level",
      "options": {
       "widgetType": "dropdown",
       "autoCreated": null,
       "choices": [
        "CustID",
        "AgentID",
        "BillID"
       ]
      }
     }
    },
    "domain": {
     "currentValue": "usg",
     "nuid": "20cf9e0c-382c-45b3-9696-2aff0c69aeec",
     "typedWidgetInfo": {
      "autoCreated": false,
      "defaultValue": "usg",
      "label": "Select Domain",
      "name": "domain",
      "options": {
       "widgetDisplayType": "Dropdown",
       "choices": [
        "usg",
        "evt",
        "ntl"
       ],
       "fixedDomain": true,
       "multiselect": false
      },
      "parameterDataType": "String"
     },
     "widgetInfo": {
      "widgetType": "dropdown",
      "defaultValue": "usg",
      "label": "Select Domain",
      "name": "domain",
      "options": {
       "widgetType": "dropdown",
       "autoCreated": null,
       "choices": [
        "usg",
        "evt",
        "ntl"
       ]
      }
     }
    },
    "schema_name": {
     "currentValue": "EDWS",
     "nuid": "1732cc09-8519-4b5a-a179-850be2fbd124",
     "typedWidgetInfo": {
      "autoCreated": false,
      "defaultValue": "EDWS",
      "label": "Select Base Schema",
      "name": "schema_name",
      "options": {
       "widgetDisplayType": "Dropdown",
       "choices": [
        "EDWS"
       ],
       "fixedDomain": true,
       "multiselect": false
      },
      "parameterDataType": "String"
     },
     "widgetInfo": {
      "widgetType": "dropdown",
      "defaultValue": "EDWS",
      "label": "Select Base Schema",
      "name": "schema_name",
      "options": {
       "widgetType": "dropdown",
       "autoCreated": null,
       "choices": [
        "EDWS"
       ]
      }
     }
    },
    "schema_selection": {
     "currentValue": "Wholesale,Retail",
     "nuid": "31c7e5df-804a-4062-b9d3-0c0ae49eee95",
     "typedWidgetInfo": {
      "autoCreated": false,
      "defaultValue": "Wholesale",
      "label": "Select Schema Type",
      "name": "schema_selection",
      "options": {
       "widgetDisplayType": "Dropdown",
       "choices": [
        "Wholesale",
        "Retail",
        "1 to 1 View"
       ],
       "fixedDomain": true,
       "multiselect": true
      },
      "parameterDataType": "String"
     },
     "widgetInfo": {
      "widgetType": "multiselect",
      "defaultValue": "Wholesale",
      "label": "Select Schema Type",
      "name": "schema_selection",
      "options": {
       "widgetType": "dropdown",
       "autoCreated": null,
       "choices": [
        "Wholesale",
        "Retail",
        "1 to 1 View"
       ]
      }
     }
    },
    "script_type": {
     "currentValue": "Result Table Block",
     "nuid": "e3d1ded4-6af9-41ba-b7e5-0ed1948de089",
     "typedWidgetInfo": {
      "autoCreated": false,
      "defaultValue": "Result Table Block",
      "label": "Select Script Type",
      "name": "script_type",
      "options": {
       "widgetDisplayType": "Dropdown",
       "choices": [
        "Result Table Block",
        "Result View Block"
       ],
       "fixedDomain": true,
       "multiselect": false
      },
      "parameterDataType": "String"
     },
     "widgetInfo": {
      "widgetType": "dropdown",
      "defaultValue": "Result Table Block",
      "label": "Select Script Type",
      "name": "script_type",
      "options": {
       "widgetType": "dropdown",
       "autoCreated": null,
       "choices": [
        "Result Table Block",
        "Result View Block"
       ]
      }
     }
    },
    "table_name": {
     "currentValue": "TransactionDetails",
     "nuid": "6dbaa193-c3ad-40e3-9d45-ec56e7f80d74",
     "typedWidgetInfo": {
      "autoCreated": false,
      "defaultValue": "MyTableName",
      "label": "Enter Table Name",
      "name": "table_name",
      "options": {
       "widgetDisplayType": "Text",
       "validationRegex": null
      },
      "parameterDataType": "String"
     },
     "widgetInfo": {
      "widgetType": "text",
      "defaultValue": "MyTableName",
      "label": "Enter Table Name",
      "name": "table_name",
      "options": {
       "widgetType": "text",
       "autoCreated": null,
       "validationRegex": null
      }
     }
    },
    "table_type": {
     "currentValue": "fact",
     "nuid": "07fd0b37-71e8-42e7-bdba-65fc7396ebe3",
     "typedWidgetInfo": {
      "autoCreated": false,
      "defaultValue": "fact",
      "label": "Select Table Type",
      "name": "table_type",
      "options": {
       "widgetDisplayType": "Dropdown",
       "choices": [
        "fact",
        "dim",
        "hist"
       ],
       "fixedDomain": true,
       "multiselect": false
      },
      "parameterDataType": "String"
     },
     "widgetInfo": {
      "widgetType": "dropdown",
      "defaultValue": "fact",
      "label": "Select Table Type",
      "name": "table_type",
      "options": {
       "widgetType": "dropdown",
       "autoCreated": null,
       "choices": [
        "fact",
        "dim",
        "hist"
       ]
      }
     }
    }
   }
  },
  "language_info": {
   "name": "python"
  }
 },
 "nbformat": 4,
 "nbformat_minor": 0
}
