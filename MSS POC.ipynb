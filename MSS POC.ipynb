{
 "cells": [
  {
   "cell_type": "code",
   "execution_count": 0,
   "metadata": {
    "application/vnd.databricks.v1+cell": {
     "cellMetadata": {
      "byteLimit": 2048000,
      "rowLimit": 10000
     },
     "inputWidgets": {},
     "nuid": "5cf0cbd8-9bef-475d-aabe-6819447ce7d3",
     "showTitle": false,
     "tableResultSettingsMap": {},
     "title": ""
    }
   },
   "outputs": [],
   "source": [
    "# Access notebook context\n",
    "notebook_context = dbutils.notebook.entry_point.getDbutils().notebook().getContext()\n",
    "\n",
    "# Retrieve Git-related information\n",
    "git_repo_url = notebook_context.gitRepoUrl().get() if notebook_context.gitRepoUrl().isDefined() else None\n",
    "git_repo_commit = notebook_context.gitRepoCommit().get() if notebook_context.gitRepoCommit().isDefined() else None\n",
    "git_repo_provider = notebook_context.gitRepoProvider().get() if notebook_context.gitRepoProvider().isDefined() else None\n",
    "git_relative_path = notebook_context.gitRelativePath().get() if notebook_context.gitRelativePath().isDefined() else None\n",
    "\n",
    "# Print the extracted details\n",
    "print(\"Git Repository URL:\", git_repo_url)\n",
    "print(\"Git Repository Commit:\", git_repo_commit)\n",
    "print(\"Git Repository Provider:\", git_repo_provider)\n",
    "print(\"Git Relative Path:\", git_relative_path)\n"
   ]
  },
  {
   "cell_type": "code",
   "execution_count": 0,
   "metadata": {
    "application/vnd.databricks.v1+cell": {
     "cellMetadata": {
      "byteLimit": 2048000,
      "rowLimit": 10000
     },
     "inputWidgets": {},
     "nuid": "a84b8c8b-3e5c-4ff4-b4ef-63e7c6df30bb",
     "showTitle": false,
     "tableResultSettingsMap": {},
     "title": ""
    }
   },
   "outputs": [],
   "source": [
    "import re\n",
    "\n",
    "# Get the notebook's path\n",
    "notebook_path = dbutils.notebook.entry_point.getDbutils().notebook().getContext().notebookPath().get()\n",
    "\n",
    "# Extract repo name (assumes repo name is the first folder in the path)\n",
    "repo_name = re.split(r\"/\", notebook_path.strip(\"/\"))[2]\n",
    "\n",
    "print(f\"Git Repository Name: {repo_name}\")\n"
   ]
  }
 ],
 "metadata": {
  "application/vnd.databricks.v1+notebook": {
   "computePreferences": null,
   "dashboards": [],
   "environmentMetadata": {
    "base_environment": "",
    "client": "1"
   },
   "language": "python",
   "notebookMetadata": {
    "mostRecentlyExecutedCommandWithImplicitDF": {
     "commandId": -1,
     "dataframes": [
      "_sqldf"
     ]
    },
    "pythonIndentUnit": 4
   },
   "notebookName": "MSS POC",
   "widgets": {
    "aggregation": {
     "currentValue": "Month",
     "nuid": "69e200ad-d389-4187-afc8-a97baa69f0a3",
     "typedWidgetInfo": {
      "autoCreated": false,
      "defaultValue": "Day",
      "label": "Select Aggregation",
      "name": "aggregation",
      "options": {
       "widgetDisplayType": "Dropdown",
       "choices": [
        "Day",
        "Week",
        "Month",
        "Quarter",
        "Year"
       ],
       "fixedDomain": true,
       "multiselect": false
      },
      "parameterDataType": "String"
     },
     "widgetInfo": {
      "widgetType": "dropdown",
      "defaultValue": "Day",
      "label": "Select Aggregation",
      "name": "aggregation",
      "options": {
       "widgetType": "dropdown",
       "autoCreated": null,
       "choices": [
        "Day",
        "Week",
        "Month",
        "Quarter",
        "Year"
       ]
      }
     }
    },
    "catalog": {
     "currentValue": "dwh",
     "nuid": "82995af9-e6ec-4e29-9478-a02614ce929f",
     "typedWidgetInfo": {
      "autoCreated": false,
      "defaultValue": "adb_we_poc_mss",
      "label": "Select Catalog",
      "name": "catalog",
      "options": {
       "widgetDisplayType": "Dropdown",
       "choices": [
        "adb_we_poc_mss",
        "hive_metastore",
        "msspoc",
        "samples",
        "system"
       ],
       "fixedDomain": true,
       "multiselect": false
      },
      "parameterDataType": "String"
     },
     "widgetInfo": {
      "widgetType": "dropdown",
      "defaultValue": "adb_we_poc_mss",
      "label": "Select Catalog",
      "name": "catalog",
      "options": {
       "widgetType": "dropdown",
       "autoCreated": null,
       "choices": [
        "adb_we_poc_mss",
        "hive_metastore",
        "msspoc",
        "samples",
        "system"
       ]
      }
     }
    },
    "data_level": {
     "currentValue": "CustID",
     "nuid": "55697ce5-c30b-4c57-8059-9ea3f6928912",
     "typedWidgetInfo": {
      "autoCreated": false,
      "defaultValue": "CustID",
      "label": "Select Data Level",
      "name": "data_level",
      "options": {
       "widgetDisplayType": "Dropdown",
       "choices": [
        "CustID",
        "AgentID",
        "BillID"
       ],
       "fixedDomain": true,
       "multiselect": false
      },
      "parameterDataType": "String"
     },
     "widgetInfo": {
      "widgetType": "dropdown",
      "defaultValue": "CustID",
      "label": "Select Data Level",
      "name": "data_level",
      "options": {
       "widgetType": "dropdown",
       "autoCreated": null,
       "choices": [
        "CustID",
        "AgentID",
        "BillID"
       ]
      }
     }
    },
    "domain": {
     "currentValue": "usg",
     "nuid": "20cf9e0c-382c-45b3-9696-2aff0c69aeec",
     "typedWidgetInfo": {
      "autoCreated": false,
      "defaultValue": "usg",
      "label": "Select Domain",
      "name": "domain",
      "options": {
       "widgetDisplayType": "Dropdown",
       "choices": [
        "usg",
        "evt",
        "ntl"
       ],
       "fixedDomain": true,
       "multiselect": false
      },
      "parameterDataType": "String"
     },
     "widgetInfo": {
      "widgetType": "dropdown",
      "defaultValue": "usg",
      "label": "Select Domain",
      "name": "domain",
      "options": {
       "widgetType": "dropdown",
       "autoCreated": null,
       "choices": [
        "usg",
        "evt",
        "ntl"
       ]
      }
     }
    },
    "schema_name": {
     "currentValue": "EDWS",
     "nuid": "1732cc09-8519-4b5a-a179-850be2fbd124",
     "typedWidgetInfo": {
      "autoCreated": false,
      "defaultValue": "EDWS",
      "label": "Select Base Schema",
      "name": "schema_name",
      "options": {
       "widgetDisplayType": "Dropdown",
       "choices": [
        "EDWS"
       ],
       "fixedDomain": true,
       "multiselect": false
      },
      "parameterDataType": "String"
     },
     "widgetInfo": {
      "widgetType": "dropdown",
      "defaultValue": "EDWS",
      "label": "Select Base Schema",
      "name": "schema_name",
      "options": {
       "widgetType": "dropdown",
       "autoCreated": null,
       "choices": [
        "EDWS"
       ]
      }
     }
    },
    "schema_selection": {
     "currentValue": "Wholesale,Retail",
     "nuid": "31c7e5df-804a-4062-b9d3-0c0ae49eee95",
     "typedWidgetInfo": {
      "autoCreated": false,
      "defaultValue": "Wholesale",
      "label": "Select Schema Type",
      "name": "schema_selection",
      "options": {
       "widgetDisplayType": "Dropdown",
       "choices": [
        "Wholesale",
        "Retail",
        "1 to 1 View"
       ],
       "fixedDomain": true,
       "multiselect": true
      },
      "parameterDataType": "String"
     },
     "widgetInfo": {
      "widgetType": "multiselect",
      "defaultValue": "Wholesale",
      "label": "Select Schema Type",
      "name": "schema_selection",
      "options": {
       "widgetType": "dropdown",
       "autoCreated": null,
       "choices": [
        "Wholesale",
        "Retail",
        "1 to 1 View"
       ]
      }
     }
    },
    "script_type": {
     "currentValue": "Result Table Block",
     "nuid": "e3d1ded4-6af9-41ba-b7e5-0ed1948de089",
     "typedWidgetInfo": {
      "autoCreated": false,
      "defaultValue": "Result Table Block",
      "label": "Select Script Type",
      "name": "script_type",
      "options": {
       "widgetDisplayType": "Dropdown",
       "choices": [
        "Result Table Block",
        "Result View Block"
       ],
       "fixedDomain": true,
       "multiselect": false
      },
      "parameterDataType": "String"
     },
     "widgetInfo": {
      "widgetType": "dropdown",
      "defaultValue": "Result Table Block",
      "label": "Select Script Type",
      "name": "script_type",
      "options": {
       "widgetType": "dropdown",
       "autoCreated": null,
       "choices": [
        "Result Table Block",
        "Result View Block"
       ]
      }
     }
    },
    "table_name": {
     "currentValue": "TransactionDetails",
     "nuid": "6dbaa193-c3ad-40e3-9d45-ec56e7f80d74",
     "typedWidgetInfo": {
      "autoCreated": false,
      "defaultValue": "MyTableName",
      "label": "Enter Table Name",
      "name": "table_name",
      "options": {
       "widgetDisplayType": "Text",
       "validationRegex": null
      },
      "parameterDataType": "String"
     },
     "widgetInfo": {
      "widgetType": "text",
      "defaultValue": "MyTableName",
      "label": "Enter Table Name",
      "name": "table_name",
      "options": {
       "widgetType": "text",
       "autoCreated": null,
       "validationRegex": null
      }
     }
    },
    "table_type": {
     "currentValue": "fact",
     "nuid": "07fd0b37-71e8-42e7-bdba-65fc7396ebe3",
     "typedWidgetInfo": {
      "autoCreated": false,
      "defaultValue": "fact",
      "label": "Select Table Type",
      "name": "table_type",
      "options": {
       "widgetDisplayType": "Dropdown",
       "choices": [
        "fact",
        "dim",
        "hist"
       ],
       "fixedDomain": true,
       "multiselect": false
      },
      "parameterDataType": "String"
     },
     "widgetInfo": {
      "widgetType": "dropdown",
      "defaultValue": "fact",
      "label": "Select Table Type",
      "name": "table_type",
      "options": {
       "widgetType": "dropdown",
       "autoCreated": null,
       "choices": [
        "fact",
        "dim",
        "hist"
       ]
      }
     }
    }
   }
  },
  "language_info": {
   "name": "python"
  }
 },
 "nbformat": 4,
 "nbformat_minor": 0
}
