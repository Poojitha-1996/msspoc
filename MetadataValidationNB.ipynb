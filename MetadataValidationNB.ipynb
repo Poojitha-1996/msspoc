{
 "cells": [
  {
   "cell_type": "code",
   "execution_count": 0,
   "metadata": {
    "application/vnd.databricks.v1+cell": {
     "cellMetadata": {},
     "inputWidgets": {},
     "nuid": "39268e52-d09e-4a18-b1bb-a2847cc26707",
     "showTitle": false,
     "tableResultSettingsMap": {},
     "title": ""
    }
   },
   "outputs": [],
   "source": [
    "spark.sql(\"\"\"\n",
    "CREATE TABLE IF NOT EXISTS finance.employee_data.employees (\n",
    "    employee_id INT COMMENT 'Unique ID for each employee',\n",
    "    first_name STRING COMMENT 'First name of the employee',\n",
    "    last_name STRING COMMENT 'Last name of the employee',\n",
    "    hire_date DATE,\n",
    "    salary DECIMAL(10, 2)\n",
    ")\n",
    "COMMENT 'Table containing employee details'\n",
    "\"\"\")\n"
   ]
  }
 ],
 "metadata": {
  "application/vnd.databricks.v1+notebook": {
   "computePreferences": null,
   "dashboards": [],
   "environmentMetadata": {
    "base_environment": "",
    "environment_version": "2"
   },
   "language": "python",
   "notebookMetadata": {
    "pythonIndentUnit": 4
   },
   "notebookName": "MetadataValidationNB",
   "widgets": {}
  },
  "language_info": {
   "name": "python"
  }
 },
 "nbformat": 4,
 "nbformat_minor": 0
}
