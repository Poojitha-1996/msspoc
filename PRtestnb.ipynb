{
 "cells": [
  {
   "cell_type": "code",
   "execution_count": 0,
   "metadata": {
    "application/vnd.databricks.v1+cell": {
     "cellMetadata": {},
     "inputWidgets": {},
     "nuid": "e70139d6-e4f8-4250-832d-18314ab04104",
     "showTitle": false,
     "tableResultSettingsMap": {},
     "title": ""
    }
   },
   "outputs": [],
   "source": [
    "spark.sql(\"\"\"\n",
    "CREATE TABLE IF NOT EXISTS finance.employee_data.employees (\n",
    "    employee_id INT COMMENT 'Unique ID for each employee',\n",
    "    first_name STRING COMMENT 'First name of the employee',\n",
    "    last_name STRING COMMENT 'Last name of the employee',\n",
    "    hire_date DATE,\n",
    "    salary DECIMAL(10, 2)\n",
    ")\n",
    "COMMENT 'Table containing employee details'\n",
    "\"\"\")\n"
   ]
  }
 ],
 "metadata": {
  "application/vnd.databricks.v1+notebook": {
   "computePreferences": null,
   "dashboards": [],
   "environmentMetadata": {
    "base_environment": "",
    "environment_version": "2"
   },
   "language": "python",
   "notebookMetadata": {
    "pythonIndentUnit": 4
   },
   "notebookName": "PRtestnb",
   "widgets": {}
  },
  "language_info": {
   "name": "python"
  }
 },
 "nbformat": 4,
 "nbformat_minor": 0
}
